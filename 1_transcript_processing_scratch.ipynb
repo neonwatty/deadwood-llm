{
 "cells": [
  {
   "cell_type": "code",
   "execution_count": 52,
   "metadata": {},
   "outputs": [],
   "source": [
    "import re\n",
    "\n",
    "\n",
    "def read_markdown_file(file_path):\n",
    "    \"\"\"Reads a markdown file and returns its content as a string.\"\"\"\n",
    "    try:\n",
    "        with open(file_path, 'r', encoding='utf-8') as file:\n",
    "            markdown_content = file.read()\n",
    "        return markdown_content\n",
    "    except FileNotFoundError:\n",
    "        return f\"Error: File not found at path: {file_path}\"\n",
    "    except Exception as e:\n",
    "        return f\"An error occurred: {e}\"\n",
    "\n",
    "# Example usage\n",
    "file_path = 'season_1_episode_1.md'\n",
    "markdown_text = read_markdown_file(file_path)"
   ]
  },
  {
   "cell_type": "code",
   "execution_count": 66,
   "metadata": {},
   "outputs": [],
   "source": [
    "def remove_audio_lines(split_text):\n",
    "    # remove all lines between 'Audio Player' and 'Use Up/Down Arrow keys to increase or decrease volume.\"\n",
    "    start_phrase = \"Audio Player\"\n",
    "    end_phrase = \"Use Up/Down Arrow keys to increase or decrease volume.\" # not using for now - just use gap count\n",
    "    max_phrase_gap = 4\n",
    "    remove_phrase_indices = []\n",
    "    phrase_count = -1\n",
    "    for i, phrase in enumerate(split_text):\n",
    "        # look for start_phrase\n",
    "        if phrase == start_phrase:\n",
    "            phrase_count = 0\n",
    "\n",
    "        # record index if in phrase gap\n",
    "        if phrase_count >= 0:\n",
    "            phrase_count += 1\n",
    "            remove_phrase_indices.append(i)\n",
    "        \n",
    "        # reset phrase_count once gap is reched\n",
    "        if phrase_count == max_phrase_gap:\n",
    "            phrase_count = -1\n",
    "\n",
    "    # remove unwanted audio player phrases based on detected indices above\n",
    "    split_text = [split_text[i] for i in range(len(split_text)) if i not in remove_phrase_indices]\n",
    "    return split_text\n",
    "\n",
    "def remove_nontranscript_phrases(text_split, non_transcript_phrases):\n",
    "    # remove custom nontranscript related phrases - like  'Deadwood Lovers T-Shirt' - from text split\n",
    "    text_split_pure = []\n",
    "    for phrase in text_split:\n",
    "        if phrase not in non_transcript_phrases:\n",
    "            text_split_pure.append(phrase)\n",
    "\n",
    "    return text_split_pure\n",
    "\n",
    "\n",
    "def remove_parens(text_split):\n",
    "    # loop over text_split and remove substrings with ()\n",
    "    text_split_no_parens = []\n",
    "    for phrase in text_split:\n",
    "\n",
    "        # find and remove substring between parens (substring)\n",
    "        open_parens_ind = phrase.find('(')\n",
    "        closed_parens_ind = phrase.find(')')\n",
    "\n",
    "        # recursively all parens pairs\n",
    "        while open_parens_ind >= 0 and closed_parens_ind >= 0:\n",
    "            # if found, remove\n",
    "            if open_parens_ind >= 0 and closed_parens_ind > 0:\n",
    "                if open_parens_ind < closed_parens_ind:\n",
    "                    phrase = phrase[:open_parens_ind] + phrase[closed_parens_ind+1:].strip()\n",
    "\n",
    "            # find and remove substring between parens (substring)\n",
    "            open_parens_ind = phrase.find('(')\n",
    "            closed_parens_ind = phrase.find(')')\n",
    "\n",
    "        # append to no parens list\n",
    "        if len(phrase) > 0:\n",
    "            text_split_no_parens.append(phrase)\n",
    "\n",
    "    return text_split_no_parens\n",
    "\n",
    "\n",
    "\n",
    "def starts_with_non_space_substring(s):\n",
    "    pattern = r\"^\\S+:\"\n",
    "    return bool(re.match(pattern, s))\n",
    "\n",
    "def adjust_colon_spacing(s):\n",
    "    pattern = r\"^(\\S+):(\\S)\"\n",
    "    return re.sub(pattern, r\"\\1: \\2\", s)\n",
    "\n",
    "def remove_noname_lines(split_text):\n",
    "    # remove any lines spoken by a non-named character\n",
    "    named_lines = []\n",
    "    for phrase in split_text:\n",
    "        if starts_with_non_space_substring(phrase.strip()):\n",
    "            # if is a named char, make sure space exists after ':'\n",
    "            named_lines.append(adjust_colon_spacing(phrase.strip()))\n",
    "    return named_lines\n",
    "\n",
    "\n",
    "def separate_into_named_lines(split_text):\n",
    "    named_lines = []\n",
    "    line_count = 1\n",
    "    for phrase in split_text:\n",
    "        before, sep, after = phrase.partition(\":\")\n",
    "        named_line = {}\n",
    "        named_line[\"character\"] = before.strip()\n",
    "        named_line[\"line\"] = after.strip()\n",
    "        named_line[\"line_count\"] = line_count\n",
    "        line_count += 1\n",
    "        named_lines.append(named_line)\n",
    "    return named_lines\n",
    "\n",
    "import json\n",
    "\n",
    "def save_as_jsonl(data, filename):\n",
    "    with open(filename, \"w\", encoding=\"utf-8\") as f:\n",
    "        for item in data:\n",
    "            json.dump(item, f)\n",
    "            f.write(\"\\n\")\n",
    "\n",
    "# split text on newline symbols\n",
    "split_text = markdown_text.split(\"\\n\")\n",
    "\n",
    "# remove empty lines\n",
    "split_text = [v for v in split_text if len(v) > 1]\n",
    "\n",
    "# remove audio player lines\n",
    "split_text = remove_audio_lines(split_text)\n",
    "\n",
    "# remove non-transcript phrases from text split\n",
    "non_transcript_phrases = [\"Deadwood Lovers T-Shirt\"]\n",
    "split_text = remove_nontranscript_phrases(split_text, non_transcript_phrases)\n",
    "\n",
    "# remove substrings containing ()\n",
    "split_text = remove_parens(split_text)\n",
    "\n",
    "# remove no-named lines from script\n",
    "split_text = remove_noname_lines(split_text)\n",
    "\n",
    "# split into list of dictionaries, named lines with character / line\n",
    "# note: this should fail for lines not properly processed above\n",
    "split_text = separate_into_named_lines(split_text)\n",
    "\n",
    "# save final result as jsonl\n",
    "save_as_jsonl(split_text, \"season_1_episode_1_cleaned_transcript.jsonl\")\n"
   ]
  },
  {
   "cell_type": "code",
   "execution_count": 65,
   "metadata": {},
   "outputs": [
    {
     "data": {
      "text/plain": [
       "[{'character': 'Seth', 'line': \"Does it involve lettin' you go?\"},\n",
       " {'character': 'Clell',\n",
       "  'line': \"I know two scores, Mr. Bullock, that we could make in transit without movin' 20 feet off our path. People with cash on hand. And if once we hit Deadwood and you didn't want to have anything to do with me, we'd never speak again. We would meet as strangers the rest of our fuckin' lives. Now, you tell me what you think of that, sir.\"},\n",
       " {'character': 'Seth', 'line': \"It don't appeal to me.\"},\n",
       " {'character': 'Clell',\n",
       "  'line': 'Get the fuck out of here for a moment would you, sir?'},\n",
       " {'character': 'Sol', 'line': \"Byron Samson's comin' for him.\"},\n",
       " {'character': 'Clell',\n",
       "  'line': \"Sir, would you please get the fuck out of here 'til we have finished our previous conversation?\"},\n",
       " {'character': 'Seth', 'line': 'How many in his play?'},\n",
       " {'character': 'Sol',\n",
       "  'line': \"A dozen, shit faced. Samson just caved in Tommy Raymond's head over at the no-name frog. He went against it.\"},\n",
       " {'character': 'Clell', 'line': 'What are you two conversing at?'},\n",
       " {'character': 'Clell', 'line': 'Jesus Christ!'}]"
      ]
     },
     "execution_count": 65,
     "metadata": {},
     "output_type": "execute_result"
    }
   ],
   "source": [
    "split_text[20:30]"
   ]
  },
  {
   "cell_type": "code",
   "execution_count": 40,
   "metadata": {},
   "outputs": [
    {
     "name": "stdout",
     "output_type": "stream",
     "text": [
      "Clell:God? Well if he ain't\n"
     ]
    }
   ],
   "source": [
    "e = \"Clell:God? Well if he ain't\".strip()\n",
    "print(e)"
   ]
  },
  {
   "cell_type": "code",
   "execution_count": null,
   "metadata": {},
   "outputs": [
    {
     "name": "stdout",
     "output_type": "stream",
     "text": [
      "(Seth nods, and takes his cup over to the wood stove to pour himself some coffee. He's wearing a sling to support his right arm.)\n",
      "0 128\n"
     ]
    }
   ],
   "source": []
  },
  {
   "cell_type": "code",
   "execution_count": 24,
   "metadata": {},
   "outputs": [
    {
     "data": {
      "text/plain": [
       "-1"
      ]
     },
     "execution_count": 24,
     "metadata": {},
     "output_type": "execute_result"
    }
   ],
   "source": [
    "\"hi there\".find('(')"
   ]
  }
 ],
 "metadata": {
  "kernelspec": {
   "display_name": ".venv",
   "language": "python",
   "name": "python3"
  },
  "language_info": {
   "codemirror_mode": {
    "name": "ipython",
    "version": 3
   },
   "file_extension": ".py",
   "mimetype": "text/x-python",
   "name": "python",
   "nbconvert_exporter": "python",
   "pygments_lexer": "ipython3",
   "version": "3.12.0"
  }
 },
 "nbformat": 4,
 "nbformat_minor": 2
}
