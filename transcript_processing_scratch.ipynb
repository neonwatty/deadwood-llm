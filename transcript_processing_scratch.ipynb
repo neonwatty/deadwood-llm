{
 "cells": [
  {
   "cell_type": "code",
   "execution_count": 52,
   "metadata": {},
   "outputs": [],
   "source": [
    "import re\n",
    "\n",
    "\n",
    "def read_markdown_file(file_path):\n",
    "    \"\"\"Reads a markdown file and returns its content as a string.\"\"\"\n",
    "    try:\n",
    "        with open(file_path, 'r', encoding='utf-8') as file:\n",
    "            markdown_content = file.read()\n",
    "        return markdown_content\n",
    "    except FileNotFoundError:\n",
    "        return f\"Error: File not found at path: {file_path}\"\n",
    "    except Exception as e:\n",
    "        return f\"An error occurred: {e}\"\n",
    "\n",
    "# Example usage\n",
    "file_path = 'season_1_episode_1.md'\n",
    "markdown_text = read_markdown_file(file_path)"
   ]
  },
  {
   "cell_type": "code",
   "execution_count": 58,
   "metadata": {},
   "outputs": [],
   "source": [
    "def remove_audio_lines(split_text):\n",
    "    # remove all lines between 'Audio Player' and 'Use Up/Down Arrow keys to increase or decrease volume.\"\n",
    "    start_phrase = \"Audio Player\"\n",
    "    end_phrase = \"Use Up/Down Arrow keys to increase or decrease volume.\" # not using for now - just use gap count\n",
    "    max_phrase_gap = 4\n",
    "    remove_phrase_indices = []\n",
    "    phrase_count = -1\n",
    "    for i, phrase in enumerate(split_text):\n",
    "        # look for start_phrase\n",
    "        if phrase == start_phrase:\n",
    "            phrase_count = 0\n",
    "\n",
    "        # record index if in phrase gap\n",
    "        if phrase_count >= 0:\n",
    "            phrase_count += 1\n",
    "            remove_phrase_indices.append(i)\n",
    "        \n",
    "        # reset phrase_count once gap is reched\n",
    "        if phrase_count == max_phrase_gap:\n",
    "            phrase_count = -1\n",
    "\n",
    "    # remove unwanted audio player phrases based on detected indices above\n",
    "    split_text = [split_text[i] for i in range(len(split_text)) if i not in remove_phrase_indices]\n",
    "    return split_text\n",
    "\n",
    "def remove_nontranscript_phrases(text_split, non_transcript_phrases):\n",
    "    # remove custom nontranscript related phrases - like  'Deadwood Lovers T-Shirt' - from text split\n",
    "    text_split_pure = []\n",
    "    for phrase in text_split:\n",
    "        if phrase not in non_transcript_phrases:\n",
    "            text_split_pure.append(phrase)\n",
    "\n",
    "    return text_split_pure\n",
    "\n",
    "\n",
    "def remove_parens(text_split):\n",
    "    # loop over text_split and remove substrings with ()\n",
    "    text_split_no_parens = []\n",
    "    for phrase in text_split:\n",
    "\n",
    "        # find and remove substring between parens (substring)\n",
    "        open_parens_ind = phrase.find('(')\n",
    "        closed_parens_ind = phrase.find(')')\n",
    "\n",
    "        # recursively all parens pairs\n",
    "        while open_parens_ind >= 0 and closed_parens_ind >= 0:\n",
    "            # if found, remove\n",
    "            if open_parens_ind >= 0 and closed_parens_ind > 0:\n",
    "                if open_parens_ind < closed_parens_ind:\n",
    "                    phrase = phrase[:open_parens_ind] + phrase[closed_parens_ind+1:].strip()\n",
    "\n",
    "            # find and remove substring between parens (substring)\n",
    "            open_parens_ind = phrase.find('(')\n",
    "            closed_parens_ind = phrase.find(')')\n",
    "\n",
    "        # append to no parens list\n",
    "        if len(phrase) > 0:\n",
    "            text_split_no_parens.append(phrase)\n",
    "\n",
    "    return text_split_no_parens\n",
    "\n",
    "\n",
    "\n",
    "def starts_with_non_space_substring(s):\n",
    "    pattern = r\"^\\S+:\"\n",
    "    return bool(re.match(pattern, s))\n",
    "\n",
    "def adjust_colon_spacing(s):\n",
    "    pattern = r\"^(\\S+):(\\S)\"\n",
    "    return re.sub(pattern, r\"\\1: \\2\", s)\n",
    "\n",
    "def remove_noname_lines(split_text):\n",
    "    # remove any lines spoken by a non-named character\n",
    "    named_lines = []\n",
    "    for phrase in split_text:\n",
    "        if starts_with_non_space_substring(phrase.strip()):\n",
    "            # if is a named char, make sure space exists after ':'\n",
    "            named_lines.append(adjust_colon_spacing(phrase.strip()))\n",
    "    return named_lines\n",
    "    \n",
    "\n",
    "# split text on newline symbols\n",
    "split_text = markdown_text.split(\"\\n\")\n",
    "\n",
    "# remove empty lines\n",
    "split_text = [v for v in split_text if len(v) > 1]\n",
    "\n",
    "# remove audio player lines\n",
    "split_text = remove_audio_lines(split_text)\n",
    "\n",
    "# remove non-transcript phrases from text split\n",
    "non_transcript_phrases = [\"Deadwood Lovers T-Shirt\"]\n",
    "split_text = remove_nontranscript_phrases(split_text, non_transcript_phrases)\n",
    "\n",
    "# remove substrings containing ()\n",
    "split_text = remove_parens(split_text)\n",
    "\n",
    "# remove no-named lines from script\n",
    "split_text = remove_noname_lines(split_text)"
   ]
  },
  {
   "cell_type": "code",
   "execution_count": 61,
   "metadata": {},
   "outputs": [
    {
     "data": {
      "text/plain": [
       "['Al: Thank you, my good man.',\n",
       " \"Ellsworth: You're welcome! You conniving, heavy thumbed motherfucker.\",\n",
       " 'Ellsworth: Watch out!',\n",
       " \"Al: That's her Derringer. I warned you about that loopy cunt!\",\n",
       " 'Al: Keep your own tally!',\n",
       " 'Ellsworth: Oh, have no fear on that score.',\n",
       " 'Trixie: I said not to beat on me! I told him.',\n",
       " 'john: Ticonderoga, New York, Barnett Robinson...',\n",
       " 'Dan: You got any other guns?',\n",
       " \"Trixie: No, I don't got anymore.\",\n",
       " 'john: Ticonderoga, New York, Barnett Robinson. Ticonderoga, New York. Do you find it? Barnett Robinson.',\n",
       " 'Al: Barnett Robinson.',\n",
       " \"john: That's who to notify if this thing goes wrong.\",\n",
       " \"Al: Yeah, I've got it right here.\",\n",
       " \"Doc: How you doin', Trixie?\",\n",
       " \"Trixie: I told him don't beat on me, Doc!\",\n",
       " 'Al: No one asked for your version!',\n",
       " \"Trixie: I robbed him and then he started in beatin' on me. And I didn't rob you.\",\n",
       " \"john: I don't remember.\",\n",
       " \"Trixie: I didn't, goddamnit!\",\n",
       " 'john: Ah, she shot me right in the head.',\n",
       " \"Doc: D-D-D-D-Don't. Don't put your fingers in it.\",\n",
       " 'john: Ah, ah, yeah, is it bad, Doc?',\n",
       " 'Doc: Shhh, shhh, shhh.',\n",
       " 'Al: Get the Chinaman!',\n",
       " 'Doc: Sure would like to know how he lasted for 20 minutes shot straight through the brain.',\n",
       " \"Al: So prospect in him, 'til Dan brings the Chinaman.\",\n",
       " 'Doc: Do you mind if I take him to my place?',\n",
       " \"Al: Sure. Johnny, help the Doc with this guy. Bring the Chinaman to the Doc's.\",\n",
       " \"Johnny: I'll bring that sled right in, Doc.\",\n",
       " \"Al: Doc, you drink free today. And I hope any word of this would keep the gun out of the whore's hand.\",\n",
       " \"Doc: That wouldn't come from me.\",\n",
       " 'Al: Bastard did himself in.',\n",
       " 'Al: Come here.',\n",
       " 'Trixie: I said to stop.',\n",
       " 'Al: Tell me in my office. Get the gimp to clean this place up.',\n",
       " 'Johnny: Aww, Doc!',\n",
       " \"Doc: You know there's something peculiar about this man's cerebral setup where they can just write off the forebrain as being the center of thought and speech.\",\n",
       " \"Johnny: Let's just get him on the sled.\",\n",
       " \"Doc: Of course it ah... won't matter to Mr. Wu's pigs.\",\n",
       " 'Bill: Whiskey....... Got an urge to see that camp, Charlie.',\n",
       " 'Charlie: Alright.',\n",
       " 'Charlie: Can we leave you with the stock, Jane? Bill and me gonna ride on ahead into camp.',\n",
       " \"Jane: I expect I'll be there before sundown.\",\n",
       " \"Charlie: Well, we'll know where to find ya.\",\n",
       " \"Jane: What in the hell do you mean by that? That I enjoy a fuckin' drink? I wasn't aware that's outlawed?\",\n",
       " \"Bill: Thanks for lookin' at the stock, Jane.\",\n",
       " \"Jane: 'Scuse my ill humor. Certain people wear on my fuckin' nerves.\",\n",
       " 'Bill: She likes me better than she likes you.',\n",
       " \"Charlie: I wish to hell I knew what I ever did to get on that woman's wrong side.\"]"
      ]
     },
     "execution_count": 61,
     "metadata": {},
     "output_type": "execute_result"
    }
   ],
   "source": [
    "split_text[100:150]"
   ]
  },
  {
   "cell_type": "code",
   "execution_count": 40,
   "metadata": {},
   "outputs": [
    {
     "name": "stdout",
     "output_type": "stream",
     "text": [
      "Clell:God? Well if he ain't\n"
     ]
    }
   ],
   "source": [
    "e = \"Clell:God? Well if he ain't\".strip()\n",
    "print(e)"
   ]
  },
  {
   "cell_type": "code",
   "execution_count": null,
   "metadata": {},
   "outputs": [
    {
     "name": "stdout",
     "output_type": "stream",
     "text": [
      "(Seth nods, and takes his cup over to the wood stove to pour himself some coffee. He's wearing a sling to support his right arm.)\n",
      "0 128\n"
     ]
    }
   ],
   "source": []
  },
  {
   "cell_type": "code",
   "execution_count": 24,
   "metadata": {},
   "outputs": [
    {
     "data": {
      "text/plain": [
       "-1"
      ]
     },
     "execution_count": 24,
     "metadata": {},
     "output_type": "execute_result"
    }
   ],
   "source": [
    "\"hi there\".find('(')"
   ]
  }
 ],
 "metadata": {
  "kernelspec": {
   "display_name": ".venv",
   "language": "python",
   "name": "python3"
  },
  "language_info": {
   "codemirror_mode": {
    "name": "ipython",
    "version": 3
   },
   "file_extension": ".py",
   "mimetype": "text/x-python",
   "name": "python",
   "nbconvert_exporter": "python",
   "pygments_lexer": "ipython3",
   "version": "3.12.0"
  }
 },
 "nbformat": 4,
 "nbformat_minor": 2
}
